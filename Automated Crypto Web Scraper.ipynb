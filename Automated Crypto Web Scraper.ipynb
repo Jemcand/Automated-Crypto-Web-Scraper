{
 "cells": [
  {
   "cell_type": "code",
   "execution_count": 1,
   "id": "1be4b514-fcb7-4eec-b5f7-c2a5cdf28419",
   "metadata": {},
   "outputs": [],
   "source": [
    "from bs4 import BeautifulSoup\n",
    "import requests"
   ]
  },
  {
   "cell_type": "code",
   "execution_count": 3,
   "id": "e8b89a43-e119-4732-a5ff-99f9ea06fcf9",
   "metadata": {},
   "outputs": [],
   "source": [
    "url = 'https://coinmarketcap.com/currencies/bitcoin/'\n",
    "page = requests.get(url)\n",
    "soup = BeautifulSoup(page.text,'html')"
   ]
  },
  {
   "cell_type": "code",
   "execution_count": null,
   "id": "1898ca9e-5985-40e8-a683-69e272765036",
   "metadata": {},
   "outputs": [],
   "source": [
    "print(soup)"
   ]
  },
  {
   "cell_type": "code",
   "execution_count": 7,
   "id": "86e1fbe2-dd6c-45f4-b824-0caacdf19be9",
   "metadata": {},
   "outputs": [
    {
     "data": {
      "text/plain": [
       "<span class=\"sc-65e7f566-0 lsTl\" data-role=\"coin-name\" title=\"Bitcoin\">Bitcoin<span class=\"sc-65e7f566-0 eQBACe coin-name-mobile\"> price</span></span>"
      ]
     },
     "execution_count": 7,
     "metadata": {},
     "output_type": "execute_result"
    }
   ],
   "source": [
    "soup.find('span', class_ = 'sc-65e7f566-0 lsTl')"
   ]
  },
  {
   "cell_type": "code",
   "execution_count": 9,
   "id": "e971655c-ad1c-4b23-8044-b1066e40bc0d",
   "metadata": {},
   "outputs": [
    {
     "data": {
      "text/plain": [
       "'Bitcoin price'"
      ]
     },
     "execution_count": 9,
     "metadata": {},
     "output_type": "execute_result"
    }
   ],
   "source": [
    "soup.find('span', class_ = 'sc-65e7f566-0 lsTl').text"
   ]
  },
  {
   "cell_type": "code",
   "execution_count": 11,
   "id": "f8d57660-9190-48d1-a4a2-38d6bdc257f4",
   "metadata": {},
   "outputs": [
    {
     "name": "stdout",
     "output_type": "stream",
     "text": [
      "Bitcoin price\n"
     ]
    }
   ],
   "source": [
    "crypto_name = soup.find('span', class_ = 'sc-65e7f566-0 lsTl').text\n",
    "print(crypto_name)"
   ]
  },
  {
   "cell_type": "code",
   "execution_count": 27,
   "id": "ee8430c5-21b5-435f-b72e-73b599f76a1f",
   "metadata": {},
   "outputs": [],
   "source": [
    "crypto_name2 = crypto_name.replace('price','')"
   ]
  },
  {
   "cell_type": "code",
   "execution_count": 29,
   "id": "972eabc2-f50b-4551-8a3d-d02d6a75f727",
   "metadata": {},
   "outputs": [
    {
     "data": {
      "text/plain": [
       "'Bitcoin '"
      ]
     },
     "execution_count": 29,
     "metadata": {},
     "output_type": "execute_result"
    }
   ],
   "source": [
    "crypto_name2"
   ]
  },
  {
   "cell_type": "code",
   "execution_count": 13,
   "id": "af1d158d-78c8-4517-85f4-b2a5c193c767",
   "metadata": {},
   "outputs": [
    {
     "data": {
      "text/plain": [
       "'$62,801.74'"
      ]
     },
     "execution_count": 13,
     "metadata": {},
     "output_type": "execute_result"
    }
   ],
   "source": [
    "soup.find('span', class_ = 'sc-65e7f566-0 clvjgF base-text').text"
   ]
  },
  {
   "cell_type": "code",
   "execution_count": 15,
   "id": "e5671db2-102f-4ddc-9255-f61d9e47c773",
   "metadata": {},
   "outputs": [],
   "source": [
    "crypto_price = soup.find('span', class_ = 'sc-65e7f566-0 clvjgF base-text').text"
   ]
  },
  {
   "cell_type": "code",
   "execution_count": 19,
   "id": "3a7f4df8-1d18-4e2a-8ad9-49d8b480a924",
   "metadata": {},
   "outputs": [],
   "source": [
    "final_price = crypto_price.replace('$','')"
   ]
  },
  {
   "cell_type": "code",
   "execution_count": 21,
   "id": "b8d20212-4b90-4a41-8336-dca18ffa4ba1",
   "metadata": {},
   "outputs": [
    {
     "data": {
      "text/plain": [
       "'62,801.74'"
      ]
     },
     "execution_count": 21,
     "metadata": {},
     "output_type": "execute_result"
    }
   ],
   "source": [
    "final_price"
   ]
  },
  {
   "cell_type": "code",
   "execution_count": 23,
   "id": "ae76c4ee-e439-47f7-aacc-a62842713bf4",
   "metadata": {},
   "outputs": [],
   "source": [
    "import pandas as pd"
   ]
  },
  {
   "cell_type": "code",
   "execution_count": 33,
   "id": "6a452ab6-5a27-4ff4-9208-870e8c0c1c58",
   "metadata": {},
   "outputs": [
    {
     "name": "stdout",
     "output_type": "stream",
     "text": [
      "2024-10-11 15:38:42.735147\n"
     ]
    }
   ],
   "source": [
    "from datetime import datetime\n",
    "\n",
    "date_time = datetime.now()\n",
    "\n",
    "print(date_time)"
   ]
  },
  {
   "cell_type": "code",
   "execution_count": 37,
   "id": "52221490-79fd-4bf0-9129-f0d8120358e2",
   "metadata": {},
   "outputs": [
    {
     "data": {
      "text/html": [
       "<div>\n",
       "<style scoped>\n",
       "    .dataframe tbody tr th:only-of-type {\n",
       "        vertical-align: middle;\n",
       "    }\n",
       "\n",
       "    .dataframe tbody tr th {\n",
       "        vertical-align: top;\n",
       "    }\n",
       "\n",
       "    .dataframe thead th {\n",
       "        text-align: right;\n",
       "    }\n",
       "</style>\n",
       "<table border=\"1\" class=\"dataframe\">\n",
       "  <thead>\n",
       "    <tr style=\"text-align: right;\">\n",
       "      <th></th>\n",
       "      <th>Crypto Name</th>\n",
       "      <th>Price</th>\n",
       "      <th>TimeStamp</th>\n",
       "    </tr>\n",
       "  </thead>\n",
       "  <tbody>\n",
       "    <tr>\n",
       "      <th>0</th>\n",
       "      <td>Bitcoin</td>\n",
       "      <td>62,801.74</td>\n",
       "      <td>2024-10-11 15:39:42.154661</td>\n",
       "    </tr>\n",
       "  </tbody>\n",
       "</table>\n",
       "</div>"
      ],
      "text/plain": [
       "  Crypto Name      Price                  TimeStamp\n",
       "0    Bitcoin   62,801.74 2024-10-11 15:39:42.154661"
      ]
     },
     "execution_count": 37,
     "metadata": {},
     "output_type": "execute_result"
    }
   ],
   "source": [
    "date_time = datetime.now()\n",
    "\n",
    "dict = {'Crypto Name': crypto_name2,\n",
    "        'Price': final_price,\n",
    "       'TimeStamp': date_time}\n",
    "\n",
    "df = pd.DataFrame([dict])\n",
    "df"
   ]
  },
  {
   "cell_type": "code",
   "execution_count": 39,
   "id": "233f557d-8b96-413c-b09d-16d261f0566c",
   "metadata": {},
   "outputs": [],
   "source": [
    "df.to_csv(r\"C:\\Users\\jemca\\OneDrive\\Documents\\SQL Queries\\Practice file\\Example_Folder\\Crypto_Automated_Pull.csv\")"
   ]
  },
  {
   "cell_type": "code",
   "execution_count": 41,
   "id": "c6342b62-a88c-40c9-a21a-5df58e93d822",
   "metadata": {},
   "outputs": [],
   "source": [
    "import os"
   ]
  },
  {
   "cell_type": "code",
   "execution_count": 43,
   "id": "ce761955-ea3b-4853-93a2-f24089e192af",
   "metadata": {},
   "outputs": [],
   "source": [
    "if os.path.exists(r\"C:\\Users\\jemca\\OneDrive\\Documents\\SQL Queries\\Practice file\\Example_Folder\\Crypto_Automated_Pull.csv\"):\n",
    "    df.to_csv(r\"C:\\Users\\jemca\\OneDrive\\Documents\\SQL Queries\\Practice file\\Example_Folder\\Crypto_Automated_Pull.csv\", mode='a', header=False)\n",
    "else:\n",
    "    df.to_csv(r\"C:\\Users\\jemca\\OneDrive\\Documents\\SQL Queries\\Practice file\\Example_Folder\\Crypto_Automated_Pull.csv\")"
   ]
  },
  {
   "cell_type": "markdown",
   "id": "c0cfb86a-8425-47f9-b0f6-f9446c5baee9",
   "metadata": {},
   "source": [
    "Put it all together"
   ]
  },
  {
   "cell_type": "code",
   "execution_count": 59,
   "id": "93714419-6cec-46e5-b4e1-f37877497b70",
   "metadata": {},
   "outputs": [],
   "source": [
    "from bs4 import BeautifulSoup\n",
    "import requests\n",
    "import pandas as pd\n",
    "from datetime import datetime\n",
    "import os\n",
    "import time"
   ]
  },
  {
   "cell_type": "code",
   "execution_count": 77,
   "id": "9f4591b3-7a58-4633-adde-13c3d26adf57",
   "metadata": {},
   "outputs": [],
   "source": [
    "def automated_crypto_pull():\n",
    "    url = 'https://coinmarketcap.com/currencies/bitcoin/'\n",
    "    page = requests.get(url)\n",
    "    soup = BeautifulSoup(page.text,'html')\n",
    "    \n",
    "    crypto_name = soup.find('span', class_ = 'sc-65e7f566-0 lsTl').text\n",
    "        \n",
    "    crypto_name2 = crypto_name.replace('price','')\n",
    "    \n",
    "    crypto_price = soup.find('span', class_ = 'sc-65e7f566-0 clvjgF base-text').text\n",
    "    \n",
    "    final_price = crypto_price.replace('$','')\n",
    "    \n",
    "    date_time = datetime.now()\n",
    "    \n",
    "    dict = {'Crypto Name': crypto_name2,\n",
    "            'Price': final_price,\n",
    "           'TimeStamp': date_time}\n",
    "    \n",
    "    df = pd.DataFrame([dict])\n",
    "    \n",
    "    if os.path.exists(r\"C:\\Users\\jemca\\OneDrive\\Documents\\SQL Queries\\Practice file\\Example_Folder\\Crypto_Automated_Pull.csv\"):\n",
    "        df.to_csv(r\"C:\\Users\\jemca\\OneDrive\\Documents\\SQL Queries\\Practice file\\Example_Folder\\Crypto_Automated_Pull.csv\", mode='a', header=False, index=False)\n",
    "    else:\n",
    "        df.to_csv(r\"C:\\Users\\jemca\\OneDrive\\Documents\\SQL Queries\\Practice file\\Example_Folder\\Crypto_Automated_Pull.csv\", index=False)\n",
    "    print(df)"
   ]
  },
  {
   "cell_type": "code",
   "execution_count": null,
   "id": "73b6fd80-1c6b-4a90-9ab5-79baefd003d6",
   "metadata": {},
   "outputs": [
    {
     "name": "stdout",
     "output_type": "stream",
     "text": [
      "  Crypto Name      Price                  TimeStamp\n",
      "0    Bitcoin   62,946.44 2024-10-11 16:20:01.053760\n"
     ]
    }
   ],
   "source": [
    "while True:\n",
    "    automated_crypto_pull()\n",
    "    time.sleep(3600)"
   ]
  },
  {
   "cell_type": "code",
   "execution_count": null,
   "id": "261197db-b4a4-4beb-8a7a-cc626f7bb221",
   "metadata": {},
   "outputs": [],
   "source": []
  },
  {
   "cell_type": "code",
   "execution_count": null,
   "id": "435101b0-5966-45fc-9626-111348162302",
   "metadata": {},
   "outputs": [],
   "source": []
  },
  {
   "cell_type": "code",
   "execution_count": null,
   "id": "a0af6ee9-2c02-4e37-b69c-0a27a22c108c",
   "metadata": {},
   "outputs": [],
   "source": []
  },
  {
   "cell_type": "code",
   "execution_count": null,
   "id": "15cc645d-7a01-4c32-a3a5-d0a6491e0447",
   "metadata": {},
   "outputs": [],
   "source": []
  }
 ],
 "metadata": {
  "kernelspec": {
   "display_name": "Python 3 (ipykernel)",
   "language": "python",
   "name": "python3"
  },
  "language_info": {
   "codemirror_mode": {
    "name": "ipython",
    "version": 3
   },
   "file_extension": ".py",
   "mimetype": "text/x-python",
   "name": "python",
   "nbconvert_exporter": "python",
   "pygments_lexer": "ipython3",
   "version": "3.12.4"
  }
 },
 "nbformat": 4,
 "nbformat_minor": 5
}
